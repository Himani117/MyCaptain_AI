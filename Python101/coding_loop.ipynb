{
 "cells": [
  {
   "cell_type": "markdown",
   "metadata": {},
   "source": [
    "# Fibonnaci Series"
   ]
  },
  {
   "cell_type": "code",
   "execution_count": 2,
   "metadata": {},
   "outputs": [
    {
     "name": "stdout",
     "output_type": "stream",
     "text": [
      "[0, 1, 1, 2, 3, 5, 8, 13, 21, 34, 55, 89, 144, 233, 377, 610, 987, 1597]\n"
     ]
    }
   ],
   "source": [
    "# f1 = 0 -> first value\n",
    "# f2 = 1 -> second value\n",
    "# f = summation of f1 and f2\n",
    "\n",
    "f1, f2 = 0, 1\n",
    "fibonnaci_series = [f1, f2]\n",
    "# print(fibonnaci_series)\n",
    "while True:\n",
    "    f = f1+f2\n",
    "    fibonnaci_series.append(f)\n",
    "    # print(f)\n",
    "    f1, f2 = f2, f\n",
    "    if f > 1000:\n",
    "        break\n",
    "\n",
    "print(fibonnaci_series)\n",
    "    \n",
    "        \n",
    "\n"
   ]
  }
 ],
 "metadata": {
  "kernelspec": {
   "display_name": "Python 3",
   "language": "python",
   "name": "python3"
  },
  "language_info": {
   "codemirror_mode": {
    "name": "ipython",
    "version": 3
   },
   "file_extension": ".py",
   "mimetype": "text/x-python",
   "name": "python",
   "nbconvert_exporter": "python",
   "pygments_lexer": "ipython3",
   "version": "3.12.5"
  }
 },
 "nbformat": 4,
 "nbformat_minor": 2
}
