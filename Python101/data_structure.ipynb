{
 "cells": [
  {
   "cell_type": "markdown",
   "metadata": {},
   "source": [
    "# Data Structure in Pythons"
   ]
  },
  {
   "cell_type": "code",
   "execution_count": 2,
   "metadata": {},
   "outputs": [
    {
     "name": "stdout",
     "output_type": "stream",
     "text": [
      "Union : {0, 1, 2, 3, 4, 5, 6, 8}\n",
      "Intersection : {2, 4}\n",
      "Difference : {0, 8, 6}\n",
      "Symmetric Differnece : {0, 1, 3, 5, 6, 8}\n"
     ]
    }
   ],
   "source": [
    "# Program to Illustrate Different Set Operations.\n",
    "# Here we have to define two set variables and we have to perform different set operations: \n",
    "# union, intersection, difference and symmetric difference.\n",
    "\n",
    "# Expected output\n",
    "# Union of E and N is {0, 1, 2, 3, 4, 5, 6, 8} Intersection of E and N is {2, 4} \n",
    "# Difference of E and N is {8, 0, 6} Symmetric difference of E and N is {0, 1, 3, 5, 6, 8}\n",
    "\n",
    "# declare 2 different sets \n",
    "E = {0,2,4,6,8}\n",
    "N = {1,2,3,4,5}\n",
    "\n",
    "# union (|)\n",
    "print(\"Union :\",E|N)\n",
    "\n",
    "# Intersection (&)\n",
    "print(\"Intersection :\", E&N)\n",
    "\n",
    "# Differnece (-)\n",
    "print(\"Difference :\", E-N)\n",
    "\n",
    "# Symmetric Difference (^)\n",
    "print(\"Symmetric Differnece :\", E^N)\n",
    "\n"
   ]
  }
 ],
 "metadata": {
  "kernelspec": {
   "display_name": "Python 3",
   "language": "python",
   "name": "python3"
  },
  "language_info": {
   "codemirror_mode": {
    "name": "ipython",
    "version": 3
   },
   "file_extension": ".py",
   "mimetype": "text/x-python",
   "name": "python",
   "nbconvert_exporter": "python",
   "pygments_lexer": "ipython3",
   "version": "3.12.5"
  }
 },
 "nbformat": 4,
 "nbformat_minor": 2
}
